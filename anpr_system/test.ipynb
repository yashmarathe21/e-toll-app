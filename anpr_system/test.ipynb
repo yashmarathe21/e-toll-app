{
  "cells": [
    {
      "cell_type": "code",
      "execution_count": null,
      "metadata": {},
      "outputs": [],
      "source": [
        "from src.anpr_system import extract_number_plate_from_image_path, extract_number_plate_from_video_path"
      ]
    },
    {
      "cell_type": "code",
      "execution_count": null,
      "metadata": {},
      "outputs": [],
      "source": [
        "number_plate = extract_number_plate_from_image_path(image_path=\"./sample_data/images/MH03AF5034.JPG\")\n",
        "print(f\"Number Plate found in the image = {number_plate}\")"
      ]
    },
    {
      "cell_type": "code",
      "execution_count": null,
      "metadata": {},
      "outputs": [],
      "source": [
        "number_plate = extract_number_plate_from_video_path(video_path=\"./sample_data/videos/sample_video.mp4\")\n",
        "print(f\"Number Plate found in the video = {number_plate}\")"
      ]
    }
  ],
  "metadata": {
    "kernelspec": {
      "display_name": "venv",
      "language": "python",
      "name": "python3"
    },
    "language_info": {
      "codemirror_mode": {
        "name": "ipython",
        "version": 3
      },
      "file_extension": ".py",
      "mimetype": "text/x-python",
      "name": "python",
      "nbconvert_exporter": "python",
      "pygments_lexer": "ipython3",
      "version": "3.8.10"
    },
    "metadata": {
      "interpreter": {
        "hash": "fb1855cd72e6ba53611ece7788e839c5bf6d1bf56848c58ab16b77c73d42bd7b"
      }
    },
    "orig_nbformat": 2,
    "vscode": {
      "interpreter": {
        "hash": "f6ec362810b53a606c380e93b06c1f34f03416bf27ad7e5948991f908d5fd332"
      }
    }
  },
  "nbformat": 4,
  "nbformat_minor": 2
}
